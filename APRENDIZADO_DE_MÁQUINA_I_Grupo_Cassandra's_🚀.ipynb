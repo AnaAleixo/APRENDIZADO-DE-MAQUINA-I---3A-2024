{
  "nbformat": 4,
  "nbformat_minor": 0,
  "metadata": {
    "colab": {
      "provenance": [],
      "authorship_tag": "ABX9TyO/vxfzcjt1eG5gbikoaxlw",
      "include_colab_link": true
    },
    "kernelspec": {
      "name": "python3",
      "display_name": "Python 3"
    },
    "language_info": {
      "name": "python"
    }
  },
  "cells": [
    {
      "cell_type": "markdown",
      "metadata": {
        "id": "view-in-github",
        "colab_type": "text"
      },
      "source": [
        "<a href=\"https://colab.research.google.com/github/AnaAleixo/APRENDIZADO-DE-MAQUINA-I---3A-2024/blob/main/APRENDIZADO_DE_M%C3%81QUINA_I_Grupo_Cassandra's_%F0%9F%9A%80.ipynb\" target=\"_parent\"><img src=\"https://colab.research.google.com/assets/colab-badge.svg\" alt=\"Open In Colab\"/></a>"
      ]
    },
    {
      "cell_type": "markdown",
      "source": [
        "# Projeto de Análise Exploratória de Dados\n",
        "**# Produção de Soja x Consumo(no Brasil)**\n",
        "\n",
        "- Alunas:\n",
        "  - Ana Cláudia Lima Aleixo\n",
        "  - Maressa Bonassoli\n",
        "  - Ana Chung ti Kam\n",
        "  - Iasmin Silva de Melo"
      ],
      "metadata": {
        "id": "m-klsBWT_ADY"
      }
    },
    {
      "cell_type": "markdown",
      "source": [
        "## Introdução\n",
        " - APRENDIZADO DE MÁQUINA I- CURSO TECNOLOGIA EM CIENCIA DE DADOS - ANO 2024 - 1º SEMESTRE\n",
        "  - Este projeto faz parte dos requisitos da atividade de conclusão da disciplina de Aprendizado de Máquina I, do Curso de Tecnologia em Ciência de Dados. Realizado no 1º Semestre de 2024, Turma 03A. O objetivo é aplicar os conhecimentos adquiridos ao longo do curso para abordar uma questão relevante, neste caso, crescimento da produção de soja no Brasil x Consumo."
      ],
      "metadata": {
        "id": "bReew2TeYgFt"
      }
    },
    {
      "cell_type": "markdown",
      "source": [
        "# Problema\n",
        "- A soja é uma cultura de extrema importância na agricultura brasileira, desempenhando um papel fundamental na economia do país. Ao longo das últimas décadas, o Brasil se tornou um dos principais produtores e exportadores mundiais de soja, impulsionado pelo desenvolvimento de tecnologias agrícolas avançadas e pela expansão do cultivo para diversas regiões do país. A soja tem sido uma fonte significativa de renda para muitos agricultores e contribui para o crescimento econômico do Brasil.(TONON, 2021).\n",
        "- O cultivo de soja no Brasil teve início no século XX, com os primeiros experimentos e a distribuição de sementes para produtores. A presença da imigração japonesa no país também contribuiu para a disseminação da cultura da soja. Ao longo do tempo, a soja se consolidou como a principal cultura agrícola do Brasil, com avanços tecnológicos que aumentaram significativamente a produtividade.\n",
        "- Atualmente, a soja é cultivada em todo o país, adaptando-se a diferentes condições climáticas e utilizando práticas sustentáveis, como o sistema de plantio direto. A soja não apenas impulsiona a economia do Brasil (ANDRADE NETO; RAIHER, 2024), mas também desempenha um papel importante na cadeia alimentar.\n",
        "- A análise dos dados relacionados à produção, consumo e comércio de soja fornece informações valiosas para pesquisadores e profissionais da área. O estudo da soja como tema em ciência de dados permite entender melhor os padrões de produção, identificar oportunidades de otimização e prever tendências futuras. A soja oferece um campo fértil para a aplicação de técnicas de ciência de dados, contribuindo para o desenvolvimento de soluções inovadoras e sustentáveis na agricultura.([s.d.])\n",
        "\n",
        "- Bibliografia\n",
        "\n",
        "https://www.embrapa.br/busca-de-noticias/-/noticia/17954081/soja-e-uma-das-alternativas-contra-a-fome-no-mundo. Disponível em: <https://www.embrapa.br/busca-de-noticias/-/noticia/17954081/soja-e-uma-das-alternativas-contra-a-fome-no-mundo>. Acesso em: 31 mar. 2024.\n",
        "TabelasGerais20232033.xlsx — Ministério da Agricultura e Pecuária. Disponível em: <https://www.gov.br/agricultura/pt-br/assuntos/noticias/producao-de-graos-brasileira-devera-chegar-a-390-milhoes-de-toneladas-nos-proximos-dez-anos/TabelasGerais20232033.xlsx/view>. Acesso em: 31 mar. 2024.\n",
        "TONON, C. Qual a importância da soja para a agricultura brasileira? Disponível em: <https://www.stoller.com.br/blog/importancia-da-soja-para-a-agricultura-brasileira/>. Acesso em: 31 mar. 2024.\n"
      ],
      "metadata": {
        "id": "LbC-2gMvYgLg"
      }
    },
    {
      "cell_type": "markdown",
      "source": [
        "## Descrição e Fonte dos Dados\n",
        "  - TabelasGerais20232033.xlsx — Ministério da Agricultura e Pecuária. Disponível em: <https://www.gov.br/agricultura/pt-br/assuntos/noticias/producao-de-graos-brasileira-devera-chegar-a-390-milhoes-de-toneladas-nos-proximos-dez-anos/TabelasGerais20232033.xlsx/view>. Acesso em: 31 mar. 2024.\n",
        "\n"
      ],
      "metadata": {
        "id": "I9LNusSs_AF4"
      }
    },
    {
      "cell_type": "markdown",
      "source": [
        "## Análise dos Dados\n",
        "- Combinando os dados de consumo e produção em um único DataFrame."
      ],
      "metadata": {
        "id": "jt1508Oc3meH"
      }
    },
    {
      "cell_type": "code",
      "source": [
        "import pandas as pd\n",
        "\n",
        "# Dados de consumo\n",
        "consumo_data = {\n",
        "    'Tipo de produto': ['Soja Grão', 'Linf.', 'Lsup.'],\n",
        "    'Unidade': ['Mil t', '', ''],\n",
        "    '2013/14': [39.600, None, None],\n",
        "    '2022/23': [51.903, 46.893, 55.062],\n",
        "    '2023/24': [50.977, 47.714, 56.828],\n",
        "    '2024/25': [52.271, 49.526, 58.851],\n",
        "    '2025/26': [54.189, 49.344, 59.981],\n",
        "    '2026/27': [54.663, 49.759, 61.340],\n",
        "    '2027/28': [55.549, 50.946, 62.976],\n",
        "    '2028/29': [56.961, 51.528, 64.268],\n",
        "    '2029/30': [57.898, 52.069, 65.546],\n",
        "    '2030/31': [58.808, 52.969, 66.976],\n",
        "    '2031/32': [59.972, 53.738, 68.306],\n",
        "    '2032/33': [61.022, None, None],\n",
        "}\n",
        "\n",
        "consumo_df = pd.DataFrame(consumo_data)\n",
        "\n",
        "# Dados de produção\n",
        "producao_data = {\n",
        "    'Tipo de produto': ['Soja Grão', 'Linf.', 'Lsup.'],\n",
        "    'Unidade': ['Mil t', '', ''],\n",
        "    '2013/14': [86.173, None, None],\n",
        "    '2022/23': [154.811, 128.403, 157.064],\n",
        "    '2023/24': [142.734, 142.203, 172.598],\n",
        "    '2024/25': [157.400, 135.970, 173.560],\n",
        "    '2025/26': [154.765, 143.205, 183.442],\n",
        "    '2026/27': [163.323, 142.311, 186.969],\n",
        "    '2027/28': [164.640, 146.901, 194.382],\n",
        "    '2028/29': [170.641, 148.182, 199.042],\n",
        "    '2029/30': [173.612, 151.751, 205.336],\n",
        "    '2030/31': [178.544, 153.983, 210.430],\n",
        "    '2031/32': [182.206, 157.188, 216.192],\n",
        "    '2032/33': [186.690, None, None],\n",
        "}\n",
        "\n",
        "producao_df = pd.DataFrame(producao_data)\n",
        "\n",
        "# Eliminar as colunas 'Unidade', 'TX. Cresc. 2022/23 a 2032/33' e 'Variação % 2022/23 a 2032/33'\n",
        "consumo_df = consumo_df.drop(['Unidade'], axis=1)\n",
        "producao_df = producao_df.drop(['Unidade'], axis=1)\n",
        "\n",
        "# Renomear as colunas de consumo para evitar conflito com as colunas de produção\n",
        "consumo_df = consumo_df.rename(columns=lambda x: 'Consumo ' + x if x != 'Tipo de produto' else x)\n",
        "\n",
        "# Renomear as colunas de produção para evitar conflito com as colunas de consumo\n",
        "producao_df = producao_df.rename(columns=lambda x: 'Produção ' + x if x != 'Tipo de produto' else x)\n",
        "\n",
        "# Combinar os DataFrames de consumo e produção\n",
        "combined_df = pd.merge(consumo_df, producao_df, on='Tipo de produto')\n",
        "\n",
        "# Exibir o DataFrame combinado\n",
        "print(combined_df)"
      ],
      "metadata": {
        "colab": {
          "base_uri": "https://localhost:8080/"
        },
        "id": "6vhhX6lRx8e9",
        "outputId": "080b5a62-d1bf-455a-bcd4-c76ef4e3858b"
      },
      "execution_count": 4,
      "outputs": [
        {
          "output_type": "stream",
          "name": "stdout",
          "text": [
            "  Tipo de produto  Consumo 2013/14  Consumo 2022/23  Consumo 2023/24  \\\n",
            "0       Soja Grão             39.6           51.903           50.977   \n",
            "1           Linf.              NaN           46.893           47.714   \n",
            "2           Lsup.              NaN           55.062           56.828   \n",
            "\n",
            "   Consumo 2024/25  Consumo 2025/26  Consumo 2026/27  Consumo 2027/28  \\\n",
            "0           52.271           54.189           54.663           55.549   \n",
            "1           49.526           49.344           49.759           50.946   \n",
            "2           58.851           59.981           61.340           62.976   \n",
            "\n",
            "   Consumo 2028/29  Consumo 2029/30  ...  Produção 2023/24  Produção 2024/25  \\\n",
            "0           56.961           57.898  ...           142.734            157.40   \n",
            "1           51.528           52.069  ...           142.203            135.97   \n",
            "2           64.268           65.546  ...           172.598            173.56   \n",
            "\n",
            "   Produção 2025/26  Produção 2026/27  Produção 2027/28  Produção 2028/29  \\\n",
            "0           154.765           163.323           164.640           170.641   \n",
            "1           143.205           142.311           146.901           148.182   \n",
            "2           183.442           186.969           194.382           199.042   \n",
            "\n",
            "   Produção 2029/30  Produção 2030/31  Produção 2031/32  Produção 2032/33  \n",
            "0           173.612           178.544           182.206            186.69  \n",
            "1           151.751           153.983           157.188               NaN  \n",
            "2           205.336           210.430           216.192               NaN  \n",
            "\n",
            "[3 rows x 25 columns]\n"
          ]
        }
      ]
    },
    {
      "cell_type": "markdown",
      "source": [
        "## Análise dos Dados\n",
        " - Gerando um arquivo CSV para iniciar as análises."
      ],
      "metadata": {
        "id": "TWotfTtV3VZG"
      }
    },
    {
      "cell_type": "code",
      "source": [
        "combined_df.to_csv('analises.csv', index=False)"
      ],
      "metadata": {
        "id": "6A0gFCIwx8hg"
      },
      "execution_count": 15,
      "outputs": []
    },
    {
      "cell_type": "markdown",
      "source": [
        "  ## Análise dos Dados\n",
        "   - Analisando a tendência para visualiza o consumo e produção ao longo dos anos e se há um aumento, diminuição ou uma tendência estável ao longo do tempo."
      ],
      "metadata": {
        "id": "uP4DLJHp27Ei"
      }
    },
    {
      "cell_type": "code",
      "source": [
        "import pandas as pd\n",
        "import matplotlib.pyplot as plt\n",
        "\n",
        "# Carregar os dados do arquivo CSV\n",
        "data = pd.read_csv('/content/analises.csv')\n",
        "\n",
        "# Selecionar apenas as colunas relevantes para consumo e produção de soja\n",
        "consumo_cols = [col for col in data.columns if col.startswith('Consumo')]\n",
        "producao_cols = [col for col in data.columns if col.startswith('Produção')]\n",
        "\n",
        "# Criar um novo DataFrame apenas com as colunas relevantes\n",
        "soja_df = data[['Tipo de produto'] + consumo_cols + producao_cols].loc[data['Tipo de produto'] == 'Soja Grão']\n",
        "\n",
        "# Selecionar os anos para o eixo x\n",
        "anos = [col.split()[1] for col in consumo_cols]\n",
        "\n",
        "# Plotar o gráfico de tendência de consumo e produção de soja\n",
        "plt.plot(anos, soja_df.iloc[0][consumo_cols], label='Consumo')\n",
        "plt.plot(anos, soja_df.iloc[0][producao_cols], label='Produção')\n",
        "plt.xlabel('Ano')\n",
        "plt.ylabel('Mil t')\n",
        "plt.title('Tendência de Consumo e Produção de Soja')\n",
        "plt.legend()\n",
        "plt.show()"
      ],
      "metadata": {
        "colab": {
          "base_uri": "https://localhost:8080/",
          "height": 472
        },
        "id": "342H3M6ZyqRX",
        "outputId": "0fb0a3b1-6e6a-45a9-f01d-eba52150ba8c"
      },
      "execution_count": 9,
      "outputs": [
        {
          "output_type": "display_data",
          "data": {
            "text/plain": [
              "<Figure size 640x480 with 1 Axes>"
            ],
            "image/png": "[encoded data removed]"
          },
          "metadata": {}
        }
      ]
    },
    {
      "cell_type": "code",
      "source": [
        "import pandas as pd\n",
        "\n",
        "# Carregar os dados do arquivo CSV\n",
        "data = pd.read_csv('/content/analises.csv')\n",
        "\n",
        "# Exibir as primeiras linhas do DataFrame\n",
        "print(data.head())"
      ],
      "metadata": {
        "colab": {
          "base_uri": "https://localhost:8080/"
        },
        "id": "XDdTDrpH4tNe",
        "outputId": "80ee7285-32fc-4878-aad5-8c4ba79dd32b"
      },
      "execution_count": 31,
      "outputs": [
        {
          "output_type": "stream",
          "name": "stdout",
          "text": [
            "  Tipo de produto  Consumo 2013/14  Consumo 2022/23  Consumo 2023/24  Consumo 2024/25  Consumo 2025/26  Consumo 2026/27  Consumo 2027/28  Consumo 2028/29  Consumo 2029/30  Consumo 2030/31  Consumo 2031/32  Consumo 2032/33  Produção 2013/14  Produção 2022/23  Produção 2023/24  Produção 2024/25  Produção 2025/26  Produção 2026/27  Produção 2027/28  Produção 2028/29  Produção 2029/30  Produção 2030/31  Produção 2031/32  Produção 2032/33\n",
            "0       Soja Grão             39.6           51.903           50.977           52.271           54.189           54.663           55.549           56.961           57.898           58.808           59.972           61.022            86.173           154.811           142.734            157.40           154.765           163.323           164.640           170.641           173.612           178.544           182.206            186.69\n",
            "1           Linf.              NaN           46.893           47.714           49.526           49.344           49.759           50.946           51.528           52.069           52.969           53.738              NaN               NaN           128.403           142.203            135.97           143.205           142.311           146.901           148.182           151.751           153.983           157.188               NaN\n",
            "2           Lsup.              NaN           55.062           56.828           58.851           59.981           61.340           62.976           64.268           65.546           66.976           68.306              NaN               NaN           157.064           172.598            173.56           183.442           186.969           194.382           199.042           205.336           210.430           216.192               NaN\n"
          ]
        }
      ]
    },
    {
      "cell_type": "markdown",
      "source": [
        "  # Análise dos Dados\n",
        "   - Desenvolvendo um modelo de aprendizado supervisionado para prever o consumo de soja com base nos dados de produção, usando regressão linear."
      ],
      "metadata": {
        "id": "fdg8AeVf52Nw"
      }
    },
    {
      "cell_type": "code",
      "source": [
        "import pandas as pd\n",
        "from sklearn.model_selection import train_test_split\n",
        "from sklearn.linear_model import LinearRegression\n",
        "from sklearn.metrics import mean_squared_error\n",
        "\n",
        "# Carregar os dados do arquivo CSV\n",
        "data = pd.read_csv('/content/analises.csv')\n",
        "\n",
        "# Separar as features (variáveis independentes) e o target (variável dependente)\n",
        "X = data[['Produção 2022/23', 'Produção 2023/24', 'Produção 2024/25', 'Produção 2025/26', 'Produção 2026/27', 'Produção 2027/28', 'Produção 2028/29', 'Produção 2029/30', 'Produção 2030/31', 'Produção 2031/32']]\n",
        "y = data['Consumo 2022/23']\n",
        "\n",
        "# Dividir os dados em conjunto de treinamento e conjunto de teste\n",
        "X_train, X_test, y_train, y_test = train_test_split(X, y, test_size=0.2, random_state=42)\n",
        "\n",
        "# Criar e treinar o modelo de regressão linear\n",
        "model = LinearRegression()\n",
        "model.fit(X_train, y_train)\n",
        "\n",
        "# Fazer previsões no conjunto de teste\n",
        "y_pred = model.predict(X_test)\n",
        "\n",
        "# Calcular o erro médio quadrático (MSE)\n",
        "mse = mean_squared_error(y_test, y_pred)\n",
        "print(\"Erro médio quadrático (MSE):\", mse)"
      ],
      "metadata": {
        "colab": {
          "base_uri": "https://localhost:8080/"
        },
        "id": "xEI_lcGb41a-",
        "outputId": "425a838a-1fd8-4044-b123-0c0c1b8f742b"
      },
      "execution_count": 20,
      "outputs": [
        {
          "output_type": "stream",
          "name": "stdout",
          "text": [
            "Erro médio quadrático (MSE): 1.6679626164341583\n"
          ]
        }
      ]
    },
    {
      "cell_type": "code",
      "source": [
        "import pandas as pd\n",
        "\n",
        "# Carregar os dados do arquivo CSV\n",
        "data = pd.read_csv('/content/analises.csv')\n",
        "\n",
        "# Imprimir o DataFrame\n",
        "print(data)"
      ],
      "metadata": {
        "colab": {
          "base_uri": "https://localhost:8080/"
        },
        "id": "1TohO9Sa6nhR",
        "outputId": "03999b38-5a5c-40af-ba07-7f53b219af56"
      },
      "execution_count": 23,
      "outputs": [
        {
          "output_type": "stream",
          "name": "stdout",
          "text": [
            "  Tipo de produto  Consumo 2013/14  Consumo 2022/23  Consumo 2023/24  \\\n",
            "0       Soja Grão             39.6           51.903           50.977   \n",
            "1           Linf.              NaN           46.893           47.714   \n",
            "2           Lsup.              NaN           55.062           56.828   \n",
            "\n",
            "   Consumo 2024/25  Consumo 2025/26  Consumo 2026/27  Consumo 2027/28  \\\n",
            "0           52.271           54.189           54.663           55.549   \n",
            "1           49.526           49.344           49.759           50.946   \n",
            "2           58.851           59.981           61.340           62.976   \n",
            "\n",
            "   Consumo 2028/29  Consumo 2029/30  ...  Produção 2023/24  Produção 2024/25  \\\n",
            "0           56.961           57.898  ...           142.734            157.40   \n",
            "1           51.528           52.069  ...           142.203            135.97   \n",
            "2           64.268           65.546  ...           172.598            173.56   \n",
            "\n",
            "   Produção 2025/26  Produção 2026/27  Produção 2027/28  Produção 2028/29  \\\n",
            "0           154.765           163.323           164.640           170.641   \n",
            "1           143.205           142.311           146.901           148.182   \n",
            "2           183.442           186.969           194.382           199.042   \n",
            "\n",
            "   Produção 2029/30  Produção 2030/31  Produção 2031/32  Produção 2032/33  \n",
            "0           173.612           178.544           182.206            186.69  \n",
            "1           151.751           153.983           157.188               NaN  \n",
            "2           205.336           210.430           216.192               NaN  \n",
            "\n",
            "[3 rows x 25 columns]\n"
          ]
        }
      ]
    },
    {
      "cell_type": "markdown",
      "source": [
        "# Conclusão\n",
        "Com base nos dados fornecidos até 2032/33, observa-se um aumento geral no consumo e na produção de soja ao longo do tempo. Se as tendências atuais continuarem, é possível que esse crescimento se mantenha no futuro. Mas, é importante ressaltar que muitos fatores podem influenciar o consumo e a produção, tais como: Mudanças nas políticas governamentais, flutuações nos preços das commodities, avanços tecnológicos, questões ambientais e demanda do mercado, são apenas alguns dos fatores que podem ter um impacto significativo na indústria agrícola. A falta de uma base histórica dificulta o estudo, mais detalhados, considerando uma variedade de fatores e informações atualizadas."
      ],
      "metadata": {
        "id": "53lsv8Rnc1mp"
      }
    }
  ]
}